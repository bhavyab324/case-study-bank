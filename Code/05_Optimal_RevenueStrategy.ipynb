{
 "cells": [
  {
   "cell_type": "code",
   "execution_count": 4,
   "metadata": {},
   "outputs": [
    {
     "name": "stdout",
     "output_type": "stream",
     "text": [
      "Combined DataFrame:\n",
      "   Client  Sale_CC  Predicted_Probability_Sale_CC  Predicted_Sale_CC  \\\n",
      "0       1      0.0                       0.600879                1.0   \n",
      "1       2      0.0                       0.652222                1.0   \n",
      "2       3      NaN                       0.507355                1.0   \n",
      "3       4      NaN                       0.550932                1.0   \n",
      "4       5      NaN                       0.668801                1.0   \n",
      "\n",
      "   Revenue_CC  Sale_CL  Predicted_Probability_Sale_CL  Predicted_Sale_CL  \\\n",
      "0    0.000000      0.0                       0.156128                0.0   \n",
      "1    0.000000      0.0                       0.095612                0.0   \n",
      "2    4.376964      NaN                       0.562485                1.0   \n",
      "3    4.376964      NaN                       0.394612                0.0   \n",
      "4    4.376964      NaN                       0.049666                0.0   \n",
      "\n",
      "   Revenue_CL  Sale_MF  Predicted_Probability_Sale_MF  Predicted_Sale_MF  \\\n",
      "0    0.000000      1.0                       0.419957                0.0   \n",
      "1    0.000000      0.0                       0.458531                0.0   \n",
      "2   10.743036      NaN                       0.516241                1.0   \n",
      "3         NaN      NaN                       0.408293                0.0   \n",
      "4         NaN      NaN                       0.444517                0.0   \n",
      "\n",
      "   Revenue_MF  \n",
      "0   26.972679  \n",
      "1    0.000000  \n",
      "2    3.079821  \n",
      "3         NaN  \n",
      "4         NaN  \n"
     ]
    }
   ],
   "source": [
    "## Combining Dataset and Keeping Top Customers with Optimal Revenue\n",
    "import pandas as pd\n",
    "import os\n",
    "\n",
    "os.chdir('/Users/bhavyabhambri/case-study-bank/ModelOutput')\n",
    "\n",
    "# Step 1: Load the files\n",
    "cc_pred = pd.read_csv('CC_predictions.csv')  # Credit Card predictions\n",
    "cl_pred = pd.read_csv('CL_predictions.csv')  # Consumer Loan predictions\n",
    "mf_pred = pd.read_csv('MF_predictions.csv')  # Mutual Fund predictions\n",
    "\n",
    "# Step 2: Perform left joins on the 'Client' column\n",
    "combined_df = cc_pred.merge(cl_pred, on='Client', how='left')  # Left join CC and CL\n",
    "combined_df = combined_df.merge(mf_pred, on='Client', how='left')  # Left join with MF\n",
    "\n",
    "# Step 3: Display the combined DataFrame\n",
    "print(\"Combined DataFrame:\")\n",
    "print(combined_df.head())\n"
   ]
  },
  {
   "cell_type": "markdown",
   "metadata": {},
   "source": [
    "## Calculating Expected Revenue for Each Product and each customer"
   ]
  },
  {
   "cell_type": "code",
   "execution_count": null,
   "metadata": {},
   "outputs": [],
   "source": [
    "combined_df['ExpectedRev_MF'] = combined_df['Predicted_Probability_Sale_MF']* combined_df['Predicted_Probability_Sale_MF']*combined_df['Revenue_MF']\n",
    "\n",
    "combined_df['ExpectedRev_CL'] = combined_df['Predicted_Probability_Sale_CL']* combined_df['Predicted_Probability_Sale_CL']*combined_df['Revenue_CL']\n",
    "\n",
    "combined_df['ExpectedRev_CC'] = combined_df['Predicted_Probability_Sale_CC']* combined_df['Predicted_Probability_Sale_CC']*combined_df['Revenue_CC']"
   ]
  },
  {
   "cell_type": "code",
   "execution_count": null,
   "metadata": {},
   "outputs": [],
   "source": []
  },
  {
   "cell_type": "code",
   "execution_count": null,
   "metadata": {},
   "outputs": [],
   "source": []
  },
  {
   "cell_type": "code",
   "execution_count": null,
   "metadata": {},
   "outputs": [],
   "source": []
  }
 ],
 "metadata": {
  "kernelspec": {
   "display_name": "base",
   "language": "python",
   "name": "python3"
  },
  "language_info": {
   "codemirror_mode": {
    "name": "ipython",
    "version": 3
   },
   "file_extension": ".py",
   "mimetype": "text/x-python",
   "name": "python",
   "nbconvert_exporter": "python",
   "pygments_lexer": "ipython3",
   "version": "3.12.4"
  }
 },
 "nbformat": 4,
 "nbformat_minor": 2
}
