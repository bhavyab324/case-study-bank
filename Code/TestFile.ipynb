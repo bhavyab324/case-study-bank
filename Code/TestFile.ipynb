{
 "cells": [
  {
   "cell_type": "code",
   "execution_count": 5,
   "metadata": {},
   "outputs": [],
   "source": [
    "import os\n",
    "import pandas as pd\n",
    "import numpy as np\n",
    "\n",
    "# The folder containing the CSV files\n",
    "case_study_folder = \"dataset\"  # Updated to the correct folder\n",
    "\n",
    "# Reading each file for Consumer Loan Model\n",
    "df_without_revenue_salesCL= pd.read_csv(os.path.join(case_study_folder, \"processed_data_salesCL.csv\"))"
   ]
  },
  {
   "cell_type": "code",
   "execution_count": 6,
   "metadata": {},
   "outputs": [
    {
     "name": "stdout",
     "output_type": "stream",
     "text": [
      "Counts of Sale_CL (including NaN values):\n",
      "   Sale_CL  Count\n",
      "0      0.0    679\n",
      "1      NaN    646\n",
      "2      1.0    290\n",
      "Number of rows for prediction (Sale_CL is NaN): 646\n",
      "Number of rows for training (Sale_CL is NOT NaN): 969\n",
      "Number of rows for training (Sale_CL = 1): 290\n"
     ]
    }
   ],
   "source": [
    "# Group by 'Sale_CL' and count occurrences, including NaN values\n",
    "sale_CL_counts = df_without_revenue_salesCL['Sale_CL'].value_counts(dropna=False).reset_index()\n",
    "sale_CL_counts.columns = ['Sale_CL', 'Count']\n",
    "\n",
    "# Display the counts\n",
    "print(\"Counts of Sale_CL (including NaN values):\")\n",
    "print(sale_CL_counts)\n",
    "\n",
    "# Create a DataFrame with rows where 'Sale_CL' is NaN\n",
    "df_for_predictionCL = df_without_revenue_salesCL[df_without_revenue_salesCL['Sale_CL'].isna()]\n",
    "\n",
    "# Create a DataFrame with rows where 'Sale_CL' is NOT NaN\n",
    "df_for_modelCL = df_without_revenue_salesCL[df_without_revenue_salesCL['Sale_CL'].notna()]\n",
    "\n",
    "#Create a Dataframe with Sale_CL=1\n",
    "df_for_modelCL_1 = df_for_modelCL[df_for_modelCL['Sale_CL'] == 1]\n",
    "\n",
    "\n",
    "# Display the shapes of the new DataFrames\n",
    "print(f\"Number of rows for prediction (Sale_CL is NaN): {df_for_predictionCL.shape[0]}\")\n",
    "print(f\"Number of rows for training (Sale_CL is NOT NaN): {df_for_modelCL.shape[0]}\")\n",
    "print(f\"Number of rows for training (Sale_CL = 1): {df_for_modelCL_1.shape[0]}\")\n"
   ]
  },
  {
   "cell_type": "code",
   "execution_count": 17,
   "metadata": {},
   "outputs": [
    {
     "name": "stdout",
     "output_type": "stream",
     "text": [
      "Average Revenue_CL for Sale_CL=1: 12.04306650249655\n",
      "Median Revenue_CL for Sale_CL=1: 10.743035710000001\n",
      "Standard Deviation of Revenue_CL for Sale_CL=1: 9.943127332049233\n"
     ]
    }
   ],
   "source": [
    "# Filter rows where Sale_CL equals 1\n",
    "sale_cl_1 = df_for_modelCL_1[df_for_modelCL_1['Sale_CL'] == 1]\n",
    "\n",
    "# Calculate the average and median of Revenue_CL\n",
    "average_revenue = sale_cl_1['Revenue_CL'].mean()\n",
    "median_revenue = sale_cl_1['Revenue_CL'].median()\n",
    "standard_deviation_revenue = sale_cl_1['Revenue_CL'].std()\n",
    "\n",
    "print(f\"Average Revenue_CL for Sale_CL=1: {average_revenue}\")\n",
    "print(f\"Median Revenue_CL for Sale_CL=1: {median_revenue}\")\n",
    "print(f\"Standard Deviation of Revenue_CL for Sale_CL=1: {standard_deviation_revenue}\")"
   ]
  },
  {
   "cell_type": "code",
   "execution_count": null,
   "metadata": {},
   "outputs": [],
   "source": []
  }
 ],
 "metadata": {
  "kernelspec": {
   "display_name": "base",
   "language": "python",
   "name": "python3"
  },
  "language_info": {
   "codemirror_mode": {
    "name": "ipython",
    "version": 3
   },
   "file_extension": ".py",
   "mimetype": "text/x-python",
   "name": "python",
   "nbconvert_exporter": "python",
   "pygments_lexer": "ipython3",
   "version": "3.12.4"
  }
 },
 "nbformat": 4,
 "nbformat_minor": 2
}
