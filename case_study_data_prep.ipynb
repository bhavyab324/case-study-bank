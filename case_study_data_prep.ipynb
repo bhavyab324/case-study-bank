{
 "cells": [
  {
   "cell_type": "code",
   "execution_count": null,
   "metadata": {},
   "outputs": [],
   "source": [
    "import os\n",
    "import pandas as pd\n",
    "\n",
    "# Define the folder containing the CSV files\n",
    "case_study_folder = \"case_study\"\n",
    "\n",
    "# List of specific CSV files to read\n",
    "csv_files = [\n",
    "    \"case_study_accountbal.csv\",\n",
    "    \"casestudy_demog.csv\",\n",
    "    \"casestudy_inflow_outflow.csv\",\n",
    "    \"casestudy_target_rev.csv\"\n",
    "]\n",
    "\n",
    "# Loop through the list of CSV files\n",
    "for file_name in csv_files:\n",
    "    file_path = os.path.join(case_study_folder, file_name)\n",
    "    \n",
    "    # Check if the file exists\n",
    "    if os.path.exists(file_path):\n",
    "        print(f\"Reading file: {file_path}\")\n",
    "        \n",
    "        # Read the CSV file into a DataFrame\n",
    "        try:\n",
    "            df = pd.read_csv(file_path)\n",
    "            print(f\"File '{file_name}' loaded successfully with shape {df.shape}\")\n",
    "            # Perform any processing on the DataFrame here\n",
    "        except Exception as e:\n",
    "            print(f\"Error reading file '{file_name}': {e}\")\n",
    "    else:\n",
    "        print(f\"File '{file_name}' does not exist in the folder '{case_study_folder}'.\")\n",
    "\n"
   ]
  }
 ],
 "metadata": {
  "language_info": {
   "name": "python"
  }
 },
 "nbformat": 4,
 "nbformat_minor": 2
}
